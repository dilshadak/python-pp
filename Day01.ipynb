{
  "cells": [
    {
      "cell_type": "markdown",
      "metadata": {
        "id": "view-in-github",
        "colab_type": "text"
      },
      "source": [
        "<a href=\"https://colab.research.google.com/github/dilshadak/python-pp/blob/main/Day01.ipynb\" target=\"_parent\"><img src=\"https://colab.research.google.com/assets/colab-badge.svg\" alt=\"Open In Colab\"/></a>"
      ]
    },
    {
      "cell_type": "markdown",
      "metadata": {
        "id": "m_vaXMUOMQHQ"
      },
      "source": [
        "# Python Pair Programing\n",
        "## Learning Python with the help of Prompt Engineering and Chat GPT"
      ]
    },
    {
      "cell_type": "markdown",
      "source": [
        "\n"
      ],
      "metadata": {
        "id": "Xq8rPalTM70l"
      }
    },
    {
      "cell_type": "markdown",
      "metadata": {
        "id": "9-qiqBbnMQHT"
      },
      "source": [
        "# Course Outline"
      ]
    },
    {
      "cell_type": "markdown",
      "source": [
        "## Prompt\n",
        "\n",
        "```\n",
        "Role: You are a python trainer. Your job is to train python from basics. Your student do not know anything about python.\n",
        "\n",
        "Question: I want to lean basics of python. Please tell me what all I need to learn. Teach me from simple to difficult.\n",
        "\n",
        "Answer format: First give me list of topics that you want to teach me. Then give me one easy to understand example of each topic explaining the code in detail.\n",
        "```\n",
        "\n"
      ],
      "metadata": {
        "id": "esQOrt7sNCcU"
      }
    },
    {
      "cell_type": "markdown",
      "source": [
        "1. **Introduction to Python**\n",
        "   - What is Python?\n",
        "   - Python's popularity and use cases.\n",
        "\n",
        "2. **Setting up Python**\n",
        "   - Installing Python on your computer.\n",
        "   - Using an Integrated Development Environment (IDE).\n",
        "\n",
        "3. **Variables and Data Types**\n",
        "   - Declaring variables.\n",
        "   - Numeric data types (integers, floats).\n",
        "   - Strings and string operations.\n",
        "   - Boolean values.\n",
        "\n",
        "4. **Basic Input and Output**\n",
        "   - Printing to the console.\n",
        "   - Getting user input.\n",
        "\n",
        "5. **Operators**\n",
        "   - Arithmetic operators.\n",
        "   - Comparison operators.\n",
        "   - Logical operators.\n",
        "\n",
        "6. **Conditional Statements**\n",
        "   - If statements.\n",
        "   - Else and elif clauses.\n",
        "   - Nested conditions.\n",
        "\n",
        "7. **Loops**\n",
        "   - While loops.\n",
        "   - For loops.\n",
        "   - Loop control statements (break, continue).\n",
        "\n",
        "8. **Lists and Tuples**\n",
        "   - Creating and accessing lists.\n",
        "   - Modifying lists.\n",
        "   - Tuple introduction.\n",
        "\n",
        "9. **Dictionaries and Sets**\n",
        "   - Creating and accessing dictionaries.\n",
        "   - Adding and updating dictionary entries.\n",
        "   - Sets and set operations.\n",
        "\n",
        "10. **Functions**\n",
        "    - Defining functions.\n",
        "    - Function parameters and return values.\n",
        "    - Scope of variables.\n",
        "\n",
        "11. **Modules and Libraries**\n",
        "    - Importing modules.\n",
        "    - Using built-in and third-party libraries.\n",
        "\n",
        "12. **File Handling**\n",
        "    - Opening, reading, and writing to files.\n",
        "    - Working with file paths.\n",
        "\n",
        "13. **Exception Handling**\n",
        "    - Handling errors using try and except blocks.\n",
        "    - Raising custom exceptions.\n",
        "\n",
        "14. **Object-Oriented Programming (OOP)**\n",
        "    - Classes and objects.\n",
        "    - Constructors and methods.\n",
        "    - Inheritance and polymorphism.\n",
        "\n",
        "15. **Advanced Topics**\n",
        "    - List comprehensions.\n",
        "    - Lambda functions.\n",
        "    - Decorators.\n",
        "    - Generators.\n",
        "\n",
        "16. **Working with APIs (Application Programming Interfaces)**\n",
        "    - Making API requests.\n",
        "    - Parsing JSON data.\n",
        "\n",
        "17. **Basic Data Analysis with Python**\n",
        "    - Introduction to libraries like NumPy and Pandas.\n",
        "    - Data manipulation and analysis.\n",
        "\n",
        "18. **Introduction to Web Development with Python**\n",
        "    - Using frameworks like Flask or Django."
      ],
      "metadata": {
        "id": "-3Bdp0A-ODK_"
      }
    }
  ],
  "metadata": {
    "colab": {
      "provenance": [],
      "include_colab_link": true
    },
    "kernelspec": {
      "display_name": "Python 3",
      "name": "python3"
    },
    "language_info": {
      "name": "python"
    }
  },
  "nbformat": 4,
  "nbformat_minor": 0
}